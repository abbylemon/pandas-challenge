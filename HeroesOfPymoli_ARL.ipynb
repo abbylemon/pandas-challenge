{
 "cells": [
  {
   "cell_type": "markdown",
   "metadata": {},
   "source": [
    "### Note\n",
    "* Instructions have been included for each segment. You do not have to follow them exactly, but they are included to help you think through the steps."
   ]
  },
  {
   "cell_type": "code",
   "execution_count": null,
   "metadata": {},
   "outputs": [],
   "source": [
    "# Dependencies and Setup\n",
    "import pandas as pd\n",
    "import numpy as np\n",
    "\n",
    "# File to Load (Remember to Change These)\n",
    "file_to_load = \"Resources/purchase_data.csv\"\n",
    "\n",
    "# Read Purchasing File and store into Pandas data frame\n",
    "purchase_data = pd.read_csv(file_to_load)\n",
    "\n",
    "purchase_data_df = pd.DataFrame(purchase_data)\n",
    "purchase_data_df"
   ]
  },
  {
   "cell_type": "markdown",
   "metadata": {},
   "source": [
    "## Player Count"
   ]
  },
  {
   "cell_type": "markdown",
   "metadata": {},
   "source": [
    "* Display the total number of players\n"
   ]
  },
  {
   "cell_type": "code",
   "execution_count": null,
   "metadata": {},
   "outputs": [],
   "source": [
    "#get a list of all of the unique players\n",
    "total_number = purchase_data_df[\"SN\"].unique()\n",
    "\n",
    "#count the number of items in this list\n",
    "number_of_players = len(total_number)\n",
    "\n",
    "#create a DataFrame to store and display this data\n",
    "total_number_df = pd.DataFrame({\"Total Players\": [number_of_players]})\n",
    "total_number_df"
   ]
  },
  {
   "cell_type": "markdown",
   "metadata": {},
   "source": [
    "## Purchasing Analysis (Total)"
   ]
  },
  {
   "cell_type": "markdown",
   "metadata": {},
   "source": [
    "* Run basic calculations to obtain number of unique items, average price, etc.\n",
    "\n",
    "\n",
    "* Create a summary data frame to hold the results\n",
    "\n",
    "\n",
    "* Optional: give the displayed data cleaner formatting\n",
    "\n",
    "\n",
    "* Display the summary data frame\n"
   ]
  },
  {
   "cell_type": "code",
   "execution_count": null,
   "metadata": {
    "scrolled": true
   },
   "outputs": [],
   "source": [
    "#get the average price per player and store it as a list\n",
    "averageprice = purchase_data_df['Price'].mean()\n",
    "\n",
    "#get the count of items per player and store it as a list\n",
    "numberofuniqueitems = len(purchase_data_df['Item ID'].unique())\n",
    "\n",
    "#get the average price per unique item\n",
    "priceperitem = averageprice/numberofuniqueitems\n",
    "\n",
    "#get the number of purchases\n",
    "numberofpurchases = purchase_data_df['Purchase ID'].count()\n",
    "\n",
    "#get the total revenue\n",
    "totalrevenue = purchase_data_df['Price'].sum()\n",
    "\n",
    "#use these new values, store and show them in a DataFrame\n",
    "purchasing_analysis_df = pd.DataFrame({'Number of Unique Items': numberofuniqueitems,\n",
    "                                       'Average Price': averageprice, \n",
    "                                       'Number of Purchases': numberofpurchases,\n",
    "                                       'Average Price per Item': priceperitem,\n",
    "                                       'Total Revenue': totalrevenue\n",
    "                                      }, \n",
    "                                      index=['Purchase Analysis'])\n",
    "\n",
    "#format the columns\n",
    "purchasing_analysis_df['Average Price'] = purchasing_analysis_df['Average Price'].map('${:.2f}'.format)\n",
    "purchasing_analysis_df['Average Price per Item'] = purchasing_analysis_df['Average Price per Item'].map('${:.2f}'.format)\n",
    "purchasing_analysis_df['Total Revenue'] = purchasing_analysis_df['Total Revenue'].map('${:,.2f}'.format)\n",
    "\n",
    "purchasing_analysis_df"
   ]
  },
  {
   "cell_type": "markdown",
   "metadata": {},
   "source": [
    "## Gender Demographics"
   ]
  },
  {
   "cell_type": "markdown",
   "metadata": {},
   "source": [
    "* Percentage and Count of Male Players\n",
    "\n",
    "\n",
    "* Percentage and Count of Female Players\n",
    "\n",
    "\n",
    "* Percentage and Count of Other / Non-Disclosed\n",
    "\n",
    "\n"
   ]
  },
  {
   "cell_type": "code",
   "execution_count": null,
   "metadata": {},
   "outputs": [],
   "source": [
    "#count and percent per gender \n",
    "#grab only the two columns that we want to work with\n",
    "gendercount_df = purchase_data_df[['SN', 'Gender']]\n",
    "\n",
    "#get rid of the duplicate rows so that there are only unique people\n",
    "gendercount_df = gendercount_df.drop_duplicates()\n",
    "\n",
    "#now group the data by Gender\n",
    "gendercount_group = gendercount_df.groupby('Gender')\n",
    "\n",
    "#create a dataframe from the values that we want from the groupby\n",
    "#get the number of people per gender and rename the column\n",
    "gendercount_summary_df = pd.DataFrame(gendercount_group['SN'].count())\n",
    "gendercount_summary_df = gendercount_summary_df.rename(columns={'SN':'Count'})\n",
    "\n",
    "#get the percent of people per gender by using the count column and the number of unique players \n",
    "gendercount_summary_df['Percentage'] = gendercount_summary_df['Count']/number_of_players*100\n",
    "\n",
    "#format the table\n",
    "gendercount_summary_df = gendercount_summary_df.sort_values(by='Count', ascending=False)\n",
    "gendercount_summary_df['Percentage'] = gendercount_summary_df['Percentage'].map('{:.2f}%'.format)\n",
    "\n",
    "gendercount_summary_df"
   ]
  },
  {
   "cell_type": "markdown",
   "metadata": {},
   "source": [
    "\n",
    "## Purchasing Analysis (Gender)"
   ]
  },
  {
   "cell_type": "markdown",
   "metadata": {},
   "source": [
    "* Run basic calculations to obtain purchase count, avg. purchase price, avg. purchase total per person etc. by gender\n",
    "\n",
    "\n",
    "\n",
    "\n",
    "* Create a summary data frame to hold the results\n",
    "\n",
    "\n",
    "* Optional: give the displayed data cleaner formatting\n",
    "\n",
    "\n",
    "* Display the summary data frame"
   ]
  },
  {
   "cell_type": "code",
   "execution_count": null,
   "metadata": {},
   "outputs": [],
   "source": [
    "# Use Groupby to do analysis on each gender\n",
    "gendergroup = purchase_data_df.groupby('Gender')\n",
    "\n",
    "# Purchase Count\n",
    "genderanalysis_df = pd.DataFrame(gendergroup['Purchase ID'].count())\n",
    "genderanalysis_df = genderanalysis_df.rename(columns={'Purchase ID':'Purcahse Count'})\n",
    "\n",
    "# Average Purchase Price\n",
    "genderanalysis_df['Average Purchase Price'] = gendergroup['Price'].mean()\n",
    "\n",
    "# Total Purchase Value\n",
    "genderanalysis_df['Total Purchase Value'] = gendergroup['Price'].sum()\n",
    "\n",
    "# # Average Purchase Total per Person by Gender\n",
    "genderanalysis_df['Average Purchase Total per Person'] = genderanalysis_df['Total Purchase Value']/gendercount_summary_df['Count']\n",
    "\n",
    "# #format the columns\n",
    "genderanalysis_df['Average Purchase Price'] = genderanalysis_df['Average Purchase Price'].map(\"${:.2f}\".format)\n",
    "genderanalysis_df['Total Purchase Value'] = genderanalysis_df['Total Purchase Value'].map(\"${:,.2f}\".format)\n",
    "genderanalysis_df['Average Purchase Total per Person'] = genderanalysis_df['Average Purchase Total per Person'].map(\"${:.2f}\".format)\n",
    "\n",
    "genderanalysis_df"
   ]
  },
  {
   "cell_type": "markdown",
   "metadata": {},
   "source": [
    "## Age Demographics"
   ]
  },
  {
   "cell_type": "markdown",
   "metadata": {},
   "source": [
    "* Establish bins for ages\n",
    "\n",
    "\n",
    "* Categorize the existing players using the age bins. Hint: use pd.cut()\n",
    "\n",
    "\n",
    "* Calculate the numbers and percentages by age group\n",
    "\n",
    "\n",
    "* Create a summary data frame to hold the results\n",
    "\n",
    "\n",
    "* Optional: round the percentage column to two decimal points\n",
    "\n",
    "\n",
    "* Display Age Demographics Table\n"
   ]
  },
  {
   "cell_type": "code",
   "execution_count": null,
   "metadata": {},
   "outputs": [],
   "source": [
    "# The below each broken into bins of 4 years (i.e. <10, 10-14, 15-19, etc.)\n",
    "\n",
    "#create my bins by using\n",
    "maxage = max(purchase_data_df['Age'])\n",
    "bins = [0, 9, 14, 19, 24, 29, 34, 39, 100]\n",
    "agegroup = ['>10', '10-14', '15-29', '20-24', '25-29', '30-34', '35-39', '40+']\n",
    "\n",
    "#cut the data using that bin\n",
    "purchase_data_df['Age Group'] = pd.cut(purchase_data_df['Age'], bins, labels=agegroup)\n",
    "# purchase_data_df = purchase_data_df.rename(mapper=)\n",
    "\n",
    "#remove the douplicate values in the SN column so that each player is only recorded once\n",
    "purchase_data_unique_df = purchase_data_df.drop_duplicates(subset='SN')\n",
    "\n",
    "# Age Count\n",
    "#group by Age Group, create a DataFrame of the number of people per age group and rename that newly created column\n",
    "agegroup = purchase_data_unique_df.groupby(['Age Group'])\n",
    "agecount_df = pd.DataFrame(agegroup['SN'].count())\n",
    "agecount_df = agecount_df.rename(columns={'SN': 'Total Count'})\n",
    "\n",
    "# Age Percentage\n",
    "#create a new column of the percentage based off of the previous column and the number of unique players\n",
    "agecount_df['Percent of Players'] = agecount_df['Total Count']/number_of_players*100\n",
    "\n",
    "# format the data\n",
    "agecount_df['Percent of Players'] = agecount_df['Percent of Players'].map(\"{:.2f}%\".format)\n",
    "\n",
    "# energy.rename(index={'Republic of Korea':'South Korea'},inplace=True)\n",
    "# agecount_df = agecount_df.rename(index={'(0,9]': '>10'})\n",
    "\n",
    "\n",
    "agecount_df"
   ]
  },
  {
   "cell_type": "markdown",
   "metadata": {},
   "source": [
    "## Purchasing Analysis (Age)"
   ]
  },
  {
   "cell_type": "markdown",
   "metadata": {},
   "source": [
    "* Bin the purchase_data data frame by age\n",
    "\n",
    "\n",
    "* Run basic calculations to obtain purchase count, avg. purchase price, avg. purchase total per person etc. in the table below\n",
    "\n",
    "\n",
    "* Create a summary data frame to hold the results\n",
    "\n",
    "\n",
    "* Optional: give the displayed data cleaner formatting\n",
    "\n",
    "\n",
    "* Display the summary data frame"
   ]
  },
  {
   "cell_type": "code",
   "execution_count": null,
   "metadata": {},
   "outputs": [],
   "source": [
    "# The below each broken into bins of 4 years (i.e. <10, 10-14, 15-19, etc.)\n",
    "\n",
    "#create my bins\n",
    "maxage = max(purchase_data_df['Age'])\n",
    "bins = [0, 9, 14, 19, 24, 29, 34, 39, 100]\n",
    "\n",
    "#cut the data using that bin\n",
    "purchase_data_df['Age Group'] = pd.cut(purchase_data_df['Age'], bins)\n",
    "purchase_data_df\n",
    "\n",
    "# Purchase Count\n",
    "#group by age group, create a new dataframe of the number of purchases then rename that column\n",
    "agegroup = purchase_data_df.groupby(['Age Group'])\n",
    "ageanalysis_df = pd.DataFrame(agegroup['Purchase ID'].count())\n",
    "ageanalysis_df = ageanalysis_df.rename(columns={'Purchase ID': 'Purchase Count'})\n",
    "\n",
    "# Average Purchase Price\n",
    "#create a column of the average price\n",
    "ageanalysis_df['Average Purchase Price'] = agegroup['Price'].mean()\n",
    "\n",
    "# Total Purchase Value\n",
    "#create a column of the total price by multipuling the number of purchases by the average price\n",
    "ageanalysis_df['Total Purchase Value'] = agegroup['Purchase ID'].count()*agegroup['Price'].mean()\n",
    "\n",
    "# Average Purchase Total per Person by Age Group\n",
    "#create a column of the average purchase per person by the total purchase column divided by the number of people per age group\n",
    "ageanalysis_df['Average Total Purchase per Person'] = ageanalysis_df['Total Purchase Value']/agecount_df['Total Count']\n",
    "\n",
    "# Format columns\n",
    "ageanalysis_df['Average Purchase Price'] = ageanalysis_df['Average Purchase Price'].map(\"${:.2f}\".format)\n",
    "ageanalysis_df['Total Purchase Value'] = ageanalysis_df['Total Purchase Value'].map(\"${:.2f}\".format)\n",
    "ageanalysis_df['Average Total Purchase per Person'] = ageanalysis_df['Average Total Purchase per Person'].map(\"${:.2f}\".format)\n",
    "\n",
    "ageanalysis_df"
   ]
  },
  {
   "cell_type": "markdown",
   "metadata": {},
   "source": [
    "## Top Spenders"
   ]
  },
  {
   "cell_type": "markdown",
   "metadata": {},
   "source": [
    "* Run basic calculations to obtain the results in the table below\n",
    "\n",
    "\n",
    "* Create a summary data frame to hold the results\n",
    "\n",
    "\n",
    "* Sort the total purchase value column in descending order\n",
    "\n",
    "\n",
    "* Optional: give the displayed data cleaner formatting\n",
    "\n",
    "\n",
    "* Display a preview of the summary data frame\n",
    "\n"
   ]
  },
  {
   "cell_type": "code",
   "execution_count": null,
   "metadata": {},
   "outputs": [],
   "source": [
    "# Identify the the top 5 spenders in the game by total purchase value, then list (in a table):\n",
    "\n",
    "#group by the player name\n",
    "price_group = purchase_data_df.groupby(['SN'])\n",
    "\n",
    "#create a dataframe from the sum of each users purchase value, rename that column\n",
    "TopSpenders_df = pd.DataFrame(price_group['Price'].sum())\n",
    "TopSpenders_df = TopSpenders_df.rename(columns={'Price':'Total Purchase Value'})\n",
    "\n",
    "#create a new column of the number of items each user purchased\n",
    "TopSpenders_df['Purchase Count'] = price_group['Item ID'].count()\n",
    "\n",
    "#create a new column of the average price by dividing the total price by the count of purchaes\n",
    "TopSpenders_df['Average Purchase Price'] = TopSpenders_df['Total Purchase Value']/TopSpenders_df['Purchase Count']\n",
    "\n",
    "#to get the top 5, sort the values in the total purchase calue in desending order\n",
    "TopSpenders_df = TopSpenders_df.sort_values(by='Total Purchase Value', ascending=False)\n",
    "#then create a new dataframe by grabing the head() of the DF created above\n",
    "TopSpenders_summary_df = TopSpenders_df.head()\n",
    "\n",
    "#format these columns\n",
    "TopSpenders_summary_df['Total Purchase Value'] = TopSpenders_summary_df['Total Purchase Value'].map(\"${:.2f}\".format)\n",
    "TopSpenders_summary_df['Average Purchase Price'] = TopSpenders_summary_df['Average Purchase Price'].map(\"${:.2f}\".format)\n",
    "\n",
    "#reorder the columns\n",
    "TopSpenders_summary_df = TopSpenders_summary_df[['Purchase Count', 'Average Purchase Price', 'Total Purchase Value']]\n",
    "\n",
    "TopSpenders_summary_df\n",
    "\n",
    "# SN\n",
    "# Purchase Count\n",
    "# Average Purchase Price\n",
    "# Total Purchase Value"
   ]
  },
  {
   "cell_type": "markdown",
   "metadata": {},
   "source": [
    "## Most Popular Items"
   ]
  },
  {
   "cell_type": "markdown",
   "metadata": {},
   "source": [
    "* Retrieve the Item ID, Item Name, and Item Price columns\n",
    "\n",
    "\n",
    "* Group by Item ID and Item Name. Perform calculations to obtain purchase count, item price, and total purchase value\n",
    "\n",
    "\n",
    "* Create a summary data frame to hold the results\n",
    "\n",
    "\n",
    "* Sort the purchase count column in descending order\n",
    "\n",
    "\n",
    "* Optional: give the displayed data cleaner formatting\n",
    "\n",
    "\n",
    "* Display a preview of the summary data frame\n",
    "\n"
   ]
  },
  {
   "cell_type": "code",
   "execution_count": null,
   "metadata": {},
   "outputs": [],
   "source": [
    "# Identify the 5 most popular items by purchase count, then list (in a table):\n",
    "#grab the columns that we wante to play with\n",
    "purchase_group = purchase_data_df.groupby(['Item ID', 'Item Name'])\n",
    "\n",
    "#create a DF of a group that counted the number of purchases per item, and rename the column\n",
    "Popular_Item_df = pd.DataFrame(purchase_group['SN'].count())\n",
    "Popular_Item_df = Popular_Item_df.rename(columns={'SN': 'Purchase Count'})\n",
    "\n",
    "#create a new column of the amount spent on each item\n",
    "Popular_Item_df['Total Purchase Value'] = purchase_group['Price'].sum()\n",
    "\n",
    "#create a new column of item price by dividing the total price by the number of items purchased\n",
    "Popular_Item_df['Item Price'] = Popular_Item_df['Total Purchase Value']/Popular_Item_df['Purchase Count']\n",
    "\n",
    "#sort the dataframe by the purchase count in desending order\n",
    "Popular_Item_df = Popular_Item_df.sort_values(by='Purchase Count', ascending=False)\n",
    "#create a new dataframe of the top 5 purchase counts\n",
    "Popular_Item_summary_df = Popular_Item_df.head()\n",
    "\n",
    "#format the columns\n",
    "Popular_Item_summary_df['Item Price'] = Popular_Item_summary_df['Item Price'].map(\"${:.2f}\".format)\n",
    "Popular_Item_summary_df['Total Purchase Value'] = Popular_Item_summary_df['Total Purchase Value'].map(\"${:.2f}\".format)\n",
    "\n",
    "#reorder the columns\n",
    "Popular_Item_summary_df = Popular_Item_summary_df[['Purchase Count', 'Item Price', 'Total Purchase Value']]\n",
    "\n",
    "Popular_Item_summary_df\n",
    "\n",
    "# Item ID\n",
    "# Item Name\n",
    "# Purchase Count\n",
    "# Item Price\n",
    "# Total Purchase Value"
   ]
  },
  {
   "cell_type": "markdown",
   "metadata": {},
   "source": [
    "## Most Profitable Items"
   ]
  },
  {
   "cell_type": "markdown",
   "metadata": {},
   "source": [
    "* Sort the above table by total purchase value in descending order\n",
    "\n",
    "\n",
    "* Optional: give the displayed data cleaner formatting\n",
    "\n",
    "\n",
    "* Display a preview of the data frame\n",
    "\n"
   ]
  },
  {
   "cell_type": "code",
   "execution_count": null,
   "metadata": {
    "scrolled": true
   },
   "outputs": [],
   "source": [
    "# Identify the 5 most profitable items by total purchase value, then list (in a table):\n",
    "\n",
    "#create a new dataframe where the total purchase value is sorted in desending order\n",
    "Profitable_Item_df = Popular_Item_df.sort_values(by='Total Purchase Value', ascending=False)\n",
    "#create another dataframe of the top 5 values\n",
    "Profitable_Item_summary_df = Profitable_Item_df.head()\n",
    "\n",
    "#format the columns\n",
    "Profitable_Item_summary_df['Total Purchase Value'] = Profitable_Item_summary_df['Total Purchase Value'].map('${:.2f}'.format)\n",
    "Profitable_Item_summary_df['Item Price'] = Profitable_Item_summary_df['Item Price'].map('${:.2f}'.format)\n",
    "\n",
    "#reorder the columns\n",
    "Profitable_Item_summary_df = Profitable_Item_summary_df[['Purchase Count', 'Item Price', 'Total Purchase Value']]\n",
    "\n",
    "Profitable_Item_summary_df\n",
    "\n",
    "# Item ID\n",
    "# Item Name\n",
    "# Purchase Count\n",
    "# Item Price\n",
    "# Total Purchase Value\n",
    "\n"
   ]
  },
  {
   "cell_type": "code",
   "execution_count": null,
   "metadata": {},
   "outputs": [],
   "source": []
  }
 ],
 "metadata": {
  "anaconda-cloud": {},
  "kernel_info": {
   "name": "python3"
  },
  "kernelspec": {
   "display_name": "Python 3",
   "language": "python",
   "name": "python3"
  },
  "language_info": {
   "codemirror_mode": {
    "name": "ipython",
    "version": 3
   },
   "file_extension": ".py",
   "mimetype": "text/x-python",
   "name": "python",
   "nbconvert_exporter": "python",
   "pygments_lexer": "ipython3",
   "version": "3.6.9"
  },
  "latex_envs": {
   "LaTeX_envs_menu_present": true,
   "autoclose": false,
   "autocomplete": true,
   "bibliofile": "biblio.bib",
   "cite_by": "apalike",
   "current_citInitial": 1,
   "eqLabelWithNumbers": true,
   "eqNumInitial": 1,
   "hotkeys": {
    "equation": "Ctrl-E",
    "itemize": "Ctrl-I"
   },
   "labels_anchors": false,
   "latex_user_defs": false,
   "report_style_numbering": false,
   "user_envs_cfg": false
  },
  "nteract": {
   "version": "0.2.0"
  }
 },
 "nbformat": 4,
 "nbformat_minor": 2
}
